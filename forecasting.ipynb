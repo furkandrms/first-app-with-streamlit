{
 "cells": [
  {
   "cell_type": "code",
   "execution_count": 11,
   "metadata": {},
   "outputs": [],
   "source": [
    "import pandas as pd \n",
    "import numpy as np \n",
    "import datetime \n",
    "import requests\n",
    "import json \n",
    "\n",
    "import plotly.graph_objects as go \n",
    "import plotly.express  as px \n",
    "\n",
    "from functions import * \n"
   ]
  },
  {
   "cell_type": "code",
   "execution_count": 12,
   "metadata": {},
   "outputs": [],
   "source": [
    "start_date = \"2016-01-01\"\n",
    "end_date = datetime.date.today()"
   ]
  },
  {
   "cell_type": "code",
   "execution_count": 13,
   "metadata": {},
   "outputs": [],
   "source": [
    "url=\"https://seffaflik.epias.com.tr/transparency/service/consumption/real-time-consumption?startDate=\"+f'{start_date}'+\"&endDate=\"+f'{end_date}'\n"
   ]
  },
  {
   "cell_type": "code",
   "execution_count": 14,
   "metadata": {},
   "outputs": [],
   "source": [
    "response = requests.get(url, verify=True)\n",
    "json_data = json.loads(response.text.encode(\"utf-8\"))\n",
    "df = pd.DataFrame(json_data[\"body\"][\"hourlyConsumptions\"]).iloc[:-1]\n",
    "\n",
    "\n",
    "df[\"date\"] = pd.to_datetime(df.date.str[:16])"
   ]
  },
  {
   "cell_type": "code",
   "execution_count": 15,
   "metadata": {},
   "outputs": [
    {
     "data": {
      "text/html": [
       "<div>\n",
       "<style scoped>\n",
       "    .dataframe tbody tr th:only-of-type {\n",
       "        vertical-align: middle;\n",
       "    }\n",
       "\n",
       "    .dataframe tbody tr th {\n",
       "        vertical-align: top;\n",
       "    }\n",
       "\n",
       "    .dataframe thead th {\n",
       "        text-align: right;\n",
       "    }\n",
       "</style>\n",
       "<table border=\"1\" class=\"dataframe\">\n",
       "  <thead>\n",
       "    <tr style=\"text-align: right;\">\n",
       "      <th></th>\n",
       "      <th>date</th>\n",
       "      <th>consumption</th>\n",
       "    </tr>\n",
       "  </thead>\n",
       "  <tbody>\n",
       "    <tr>\n",
       "      <th>0</th>\n",
       "      <td>2016-01-01 00:00:00</td>\n",
       "      <td>26277.24</td>\n",
       "    </tr>\n",
       "    <tr>\n",
       "      <th>1</th>\n",
       "      <td>2016-01-01 01:00:00</td>\n",
       "      <td>24991.82</td>\n",
       "    </tr>\n",
       "    <tr>\n",
       "      <th>2</th>\n",
       "      <td>2016-01-01 02:00:00</td>\n",
       "      <td>23532.61</td>\n",
       "    </tr>\n",
       "    <tr>\n",
       "      <th>3</th>\n",
       "      <td>2016-01-01 03:00:00</td>\n",
       "      <td>22464.78</td>\n",
       "    </tr>\n",
       "    <tr>\n",
       "      <th>4</th>\n",
       "      <td>2016-01-01 04:00:00</td>\n",
       "      <td>22002.91</td>\n",
       "    </tr>\n",
       "    <tr>\n",
       "      <th>...</th>\n",
       "      <td>...</td>\n",
       "      <td>...</td>\n",
       "    </tr>\n",
       "    <tr>\n",
       "      <th>73287</th>\n",
       "      <td>2024-05-11 15:00:00</td>\n",
       "      <td>39536.79</td>\n",
       "    </tr>\n",
       "    <tr>\n",
       "      <th>73288</th>\n",
       "      <td>2024-05-11 16:00:00</td>\n",
       "      <td>38448.12</td>\n",
       "    </tr>\n",
       "    <tr>\n",
       "      <th>73289</th>\n",
       "      <td>2024-05-11 17:00:00</td>\n",
       "      <td>37634.56</td>\n",
       "    </tr>\n",
       "    <tr>\n",
       "      <th>73290</th>\n",
       "      <td>2024-05-11 18:00:00</td>\n",
       "      <td>36765.50</td>\n",
       "    </tr>\n",
       "    <tr>\n",
       "      <th>73291</th>\n",
       "      <td>2024-05-11 19:00:00</td>\n",
       "      <td>35013.56</td>\n",
       "    </tr>\n",
       "  </tbody>\n",
       "</table>\n",
       "<p>73292 rows × 2 columns</p>\n",
       "</div>"
      ],
      "text/plain": [
       "                     date  consumption\n",
       "0     2016-01-01 00:00:00     26277.24\n",
       "1     2016-01-01 01:00:00     24991.82\n",
       "2     2016-01-01 02:00:00     23532.61\n",
       "3     2016-01-01 03:00:00     22464.78\n",
       "4     2016-01-01 04:00:00     22002.91\n",
       "...                   ...          ...\n",
       "73287 2024-05-11 15:00:00     39536.79\n",
       "73288 2024-05-11 16:00:00     38448.12\n",
       "73289 2024-05-11 17:00:00     37634.56\n",
       "73290 2024-05-11 18:00:00     36765.50\n",
       "73291 2024-05-11 19:00:00     35013.56\n",
       "\n",
       "[73292 rows x 2 columns]"
      ]
     },
     "execution_count": 15,
     "metadata": {},
     "output_type": "execute_result"
    }
   ],
   "source": [
    "df"
   ]
  },
  {
   "cell_type": "code",
   "execution_count": 18,
   "metadata": {},
   "outputs": [],
   "source": [
    "fh_new = 24*7+1\n",
    "date = pd.date_range(start=df.date.tail(1).iloc[0], periods=fh_new, freq=\"H\", name=\"date\")\n",
    "\n",
    "date = pd.DataFrame(date)\n",
    "df_fe = pd.merge(df, date, how=\"outer\")"
   ]
  },
  {
   "cell_type": "code",
   "execution_count": 20,
   "metadata": {},
   "outputs": [
    {
     "data": {
      "text/html": [
       "<div>\n",
       "<style scoped>\n",
       "    .dataframe tbody tr th:only-of-type {\n",
       "        vertical-align: middle;\n",
       "    }\n",
       "\n",
       "    .dataframe tbody tr th {\n",
       "        vertical-align: top;\n",
       "    }\n",
       "\n",
       "    .dataframe thead th {\n",
       "        text-align: right;\n",
       "    }\n",
       "</style>\n",
       "<table border=\"1\" class=\"dataframe\">\n",
       "  <thead>\n",
       "    <tr style=\"text-align: right;\">\n",
       "      <th></th>\n",
       "      <th>date</th>\n",
       "      <th>consumption</th>\n",
       "    </tr>\n",
       "  </thead>\n",
       "  <tbody>\n",
       "    <tr>\n",
       "      <th>0</th>\n",
       "      <td>2016-01-01 00:00:00</td>\n",
       "      <td>26277.24</td>\n",
       "    </tr>\n",
       "    <tr>\n",
       "      <th>1</th>\n",
       "      <td>2016-01-01 01:00:00</td>\n",
       "      <td>24991.82</td>\n",
       "    </tr>\n",
       "    <tr>\n",
       "      <th>2</th>\n",
       "      <td>2016-01-01 02:00:00</td>\n",
       "      <td>23532.61</td>\n",
       "    </tr>\n",
       "    <tr>\n",
       "      <th>3</th>\n",
       "      <td>2016-01-01 03:00:00</td>\n",
       "      <td>22464.78</td>\n",
       "    </tr>\n",
       "    <tr>\n",
       "      <th>4</th>\n",
       "      <td>2016-01-01 04:00:00</td>\n",
       "      <td>22002.91</td>\n",
       "    </tr>\n",
       "    <tr>\n",
       "      <th>...</th>\n",
       "      <td>...</td>\n",
       "      <td>...</td>\n",
       "    </tr>\n",
       "    <tr>\n",
       "      <th>73455</th>\n",
       "      <td>2024-05-18 15:00:00</td>\n",
       "      <td>NaN</td>\n",
       "    </tr>\n",
       "    <tr>\n",
       "      <th>73456</th>\n",
       "      <td>2024-05-18 16:00:00</td>\n",
       "      <td>NaN</td>\n",
       "    </tr>\n",
       "    <tr>\n",
       "      <th>73457</th>\n",
       "      <td>2024-05-18 17:00:00</td>\n",
       "      <td>NaN</td>\n",
       "    </tr>\n",
       "    <tr>\n",
       "      <th>73458</th>\n",
       "      <td>2024-05-18 18:00:00</td>\n",
       "      <td>NaN</td>\n",
       "    </tr>\n",
       "    <tr>\n",
       "      <th>73459</th>\n",
       "      <td>2024-05-18 19:00:00</td>\n",
       "      <td>NaN</td>\n",
       "    </tr>\n",
       "  </tbody>\n",
       "</table>\n",
       "<p>73460 rows × 2 columns</p>\n",
       "</div>"
      ],
      "text/plain": [
       "                     date  consumption\n",
       "0     2016-01-01 00:00:00     26277.24\n",
       "1     2016-01-01 01:00:00     24991.82\n",
       "2     2016-01-01 02:00:00     23532.61\n",
       "3     2016-01-01 03:00:00     22464.78\n",
       "4     2016-01-01 04:00:00     22002.91\n",
       "...                   ...          ...\n",
       "73455 2024-05-18 15:00:00          NaN\n",
       "73456 2024-05-18 16:00:00          NaN\n",
       "73457 2024-05-18 17:00:00          NaN\n",
       "73458 2024-05-18 18:00:00          NaN\n",
       "73459 2024-05-18 19:00:00          NaN\n",
       "\n",
       "[73460 rows x 2 columns]"
      ]
     },
     "execution_count": 20,
     "metadata": {},
     "output_type": "execute_result"
    }
   ],
   "source": [
    "df_fe"
   ]
  },
  {
   "cell_type": "code",
   "execution_count": null,
   "metadata": {},
   "outputs": [],
   "source": []
  }
 ],
 "metadata": {
  "kernelspec": {
   "display_name": "Python 3",
   "language": "python",
   "name": "python3"
  },
  "language_info": {
   "codemirror_mode": {
    "name": "ipython",
    "version": 3
   },
   "file_extension": ".py",
   "mimetype": "text/x-python",
   "name": "python",
   "nbconvert_exporter": "python",
   "pygments_lexer": "ipython3",
   "version": "3.11.6"
  },
  "orig_nbformat": 4,
  "vscode": {
   "interpreter": {
    "hash": "b0fa6594d8f4cbf19f97940f81e996739fb7646882a419484c72d19e05852a7e"
   }
  }
 },
 "nbformat": 4,
 "nbformat_minor": 2
}
